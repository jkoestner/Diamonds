{
 "cells": [
  {
   "cell_type": "markdown",
   "metadata": {},
   "source": [
    "## Checking the differences between diamonds available on the James Allen Website"
   ]
  },
  {
   "cell_type": "code",
   "execution_count": 1,
   "metadata": {},
   "outputs": [],
   "source": [
    "#initializing libraries\n",
    "\n",
    "import pandas as pd\n",
    "import urllib3\n",
    "import certifi\n",
    "import os\n",
    "import time\n",
    "from bs4 import BeautifulSoup\n",
    "from collections import namedtuple\n",
    "from json import loads\n",
    "import requests\n",
    "import json"
   ]
  },
  {
   "cell_type": "code",
   "execution_count": 2,
   "metadata": {},
   "outputs": [
    {
     "name": "stdout",
     "output_type": "stream",
     "text": [
      "(2250, 47)\n",
      "(2263, 43)\n"
     ]
    }
   ],
   "source": [
    "#importing new/old datasets\n",
    "\n",
    "dfnew = pd.read_csv(\"out_5.14.2019.csv\") \n",
    "dfold = pd.read_csv(\"out_2.12.2019.csv\")\n",
    "print(dfnew.shape)\n",
    "print(dfold.shape)"
   ]
  },
  {
   "cell_type": "code",
   "execution_count": 3,
   "metadata": {},
   "outputs": [
    {
     "name": "stdout",
     "output_type": "stream",
     "text": [
      "(1698, 47)\n",
      "(1642, 43)\n"
     ]
    }
   ],
   "source": [
    "#creating dataset by dropping duplicate diamonds.\n",
    "\n",
    "dfnew = dfnew.drop_duplicates(subset='DiamondID')\n",
    "print(dfnew.shape)\n",
    "dfold = dfold.drop_duplicates(subset='DiamondID')\n",
    "print(dfold.shape)"
   ]
  },
  {
   "cell_type": "code",
   "execution_count": 4,
   "metadata": {},
   "outputs": [
    {
     "name": "stdout",
     "output_type": "stream",
     "text": [
      "(965, 47)\n"
     ]
    }
   ],
   "source": [
    "#new diamonds that have come on\n",
    "\n",
    "dfon = dfnew[~dfnew['DiamondID'].isin(dfold['DiamondID'])]\n",
    "print(dfon.shape)\n"
   ]
  },
  {
   "cell_type": "code",
   "execution_count": 5,
   "metadata": {},
   "outputs": [
    {
     "name": "stdout",
     "output_type": "stream",
     "text": [
      "(909, 43)\n"
     ]
    }
   ],
   "source": [
    "#diamonds that have been sold\n",
    "\n",
    "dfoff = dfold[~dfold['DiamondID'].isin(dfnew['DiamondID'])]\n",
    "print(dfoff.shape)\n"
   ]
  },
  {
   "cell_type": "code",
   "execution_count": 6,
   "metadata": {},
   "outputs": [],
   "source": [
    "dfoff.to_csv('off.csv')"
   ]
  },
  {
   "cell_type": "code",
   "execution_count": 7,
   "metadata": {},
   "outputs": [],
   "source": [
    "dfon.to_csv('on.csv')"
   ]
  }
 ],
 "metadata": {
  "kernelspec": {
   "display_name": "Python 3",
   "language": "python",
   "name": "python3"
  },
  "language_info": {
   "codemirror_mode": {
    "name": "ipython",
    "version": 3
   },
   "file_extension": ".py",
   "mimetype": "text/x-python",
   "name": "python",
   "nbconvert_exporter": "python",
   "pygments_lexer": "ipython3",
   "version": "3.7.1"
  }
 },
 "nbformat": 4,
 "nbformat_minor": 2
}
